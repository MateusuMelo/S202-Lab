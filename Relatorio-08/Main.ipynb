{
 "cells": [
  {
   "cell_type": "code",
   "execution_count": 1,
   "metadata": {},
   "outputs": [
    {
     "name": "stdout",
     "output_type": "stream",
     "text": [
      "Requirement already satisfied: neo4j in c:\\users\\mateu\\appdata\\local\\programs\\python\\python37\\lib\\site-packages (5.14.0)Note: you may need to restart the kernel to use updated packages.\n",
      "\n",
      "Requirement already satisfied: pytz in c:\\users\\mateu\\appdata\\local\\programs\\python\\python37\\lib\\site-packages (from neo4j) (2023.3)\n"
     ]
    },
    {
     "name": "stderr",
     "output_type": "stream",
     "text": [
      "\n",
      "[notice] A new release of pip is available: 23.2.1 -> 23.3.1\n",
      "[notice] To update, run: python.exe -m pip install --upgrade pip\n"
     ]
    }
   ],
   "source": [
    "%pip install neo4j"
   ]
  },
  {
   "cell_type": "code",
   "execution_count": 2,
   "metadata": {},
   "outputs": [],
   "source": [
    "from neo4j import GraphDatabase\n",
    "\n",
    "# Classe para lidar com a conexão e transações do Neo4j\n",
    "class Neo4jConnection:\n",
    "    def __init__(self, uri, user, password):\n",
    "        self._driver = GraphDatabase.driver(uri, auth=(user, password))\n",
    "\n",
    "    def close(self):\n",
    "        self._driver.close()\n",
    "\n",
    "    def execute_query(self, query, **kwargs):\n",
    "        with self._driver.session() as session:\n",
    "            result = session.execute_write(self._execute, query, **kwargs)\n",
    "            return result\n",
    "\n",
    "    @staticmethod\n",
    "    def _execute(tx, query, **kwargs):\n",
    "        result = tx.run(query, **kwargs)\n",
    "        return result.data()\n",
    "\n",
    "# Configurações de conexão com o banco de dados Neo4j\n",
    "uri = \"neo4j+s://f08621b4.databases.neo4j.io\"  # Substitua com a URL correta do seu banco de dados\n",
    "user = \"neo4j\"           # Substitua com seu nome de usuário\n",
    "password = \"UtRsFSYanL1-Mvj1uZ4War-uiW-oicu-y8LizZoLbpA\"         # Substitua com sua senha\n",
    "\n",
    "# Exemplo de uso\n",
    "\n",
    "connection = Neo4jConnection(uri, user, password)\n",
    "\n",
    "# Consulta de exemplo\n",
    "query = \"MATCH (n) RETURN n LIMIT 5\"\n",
    "\n",
    "try:\n",
    "    result = connection.execute_query(query)\n",
    "    for record in result:\n",
    "        print(record)\n",
    "except Exception as e:\n",
    "    print(f\"Erro: {str(e)}\")\n",
    "finally:\n",
    "    connection.close()\n"
   ]
  },
  {
   "cell_type": "code",
   "execution_count": 35,
   "metadata": {},
   "outputs": [
    {
     "name": "stderr",
     "output_type": "stream",
     "text": [
      "C:\\Users\\mateu\\AppData\\Roaming\\Python\\Python37\\site-packages\\ipykernel_launcher.py:12: DeprecationWarning: Using a driver after it has been closed is deprecated. Future versions of the driver will raise an error.\n",
      "  if sys.path[0] == \"\":\n"
     ]
    },
    {
     "name": "stdout",
     "output_type": "stream",
     "text": [
      "[{'m': {'id': 2}, 'r.score': 8}, {'m': {'id': 1}, 'r.score': 10}]\n",
      "[{'p': {'nome': 'Jogador c ', 'id': 3}}, {'p': {'nome': 'Jogador a ', 'id': 1}}]\n"
     ]
    }
   ],
   "source": [
    "class Player:\n",
    "    def __init__(self, nome, id):\n",
    "        self.nome = nome\n",
    "        self._id = id\n",
    "        connection = Neo4jConnection(uri, user, password)\n",
    "        try:\n",
    "            result = connection.execute_query(f\"CREATE (p:Player {{id: {self._id}, nome: '{self.nome}'}})\")\n",
    "        except Exception as e:\n",
    "            print(str(e))\n",
    "        finally:\n",
    "            connection.close()\n",
    "\n",
    "    def Update(self, n_nome, n_id):\n",
    "        try:\n",
    "           \n",
    "            result = connection.execute_query(f\"MATCH (p:Player {{id: {self._id}, nome: '{self.nome}'}}) set p.nome = '{n_nome}' , p.id = {n_id}\")\n",
    "            self.nome = n_nome\n",
    "            self._id = n_id\n",
    "            \n",
    "        except Exception as e:\n",
    "            print(str(e))\n",
    "        finally:\n",
    "            connection.close()\n",
    "\n",
    "    def Delete(self):\n",
    "        try:\n",
    "            result = connection.execute_query(f\"MATCH(n:Player{{id : {self._id}}}) DELETE n\")\n",
    "        except Exception as e:\n",
    "            print(str(e))\n",
    "        finally:\n",
    "            connection.close()\n",
    "    def get_history(self):\n",
    "        try:\n",
    "            result = connection.execute_query(f\"MATCH (p:Player {{id:{self._id}}})-[r:PARTICIPATED_IN]-> (m:Match) RETURN m, r.score\")\n",
    "            print(result)\n",
    "        except Exception as e:\n",
    "            print(str(e))\n",
    "        finally:\n",
    "            connection.close()\n",
    "\n",
    "\n",
    "        \n",
    "    \n",
    "class Match:\n",
    "    def __init__(self, id):\n",
    "        self._id = id\n",
    "        connection = Neo4jConnection(uri, user, password)\n",
    "        try:\n",
    "            result = connection.execute_query(f\"CREATE (m:Match {{id: {self._id}}})\")\n",
    "        except Exception as e:\n",
    "            print(str(e))\n",
    "        finally:\n",
    "            connection.close()\n",
    "    \n",
    "    def add_player(self, player:Player, score):\n",
    "        try:\n",
    "            result = connection.execute_query(f\"MATCH(p:Player{{id : {player._id}}}) MATCH(m:Match{{id:{self._id}}}) CREATE (p)-[:PARTICIPATED_IN {{score:{score}}}]->(m)\")\n",
    "        except Exception as e:\n",
    "            print(str(e))\n",
    "        finally:\n",
    "            connection.close()\n",
    "\n",
    "    def player_list(self):\n",
    "        try:\n",
    "            result = connection.execute_query(f\"MATCH (player:Player)-[r:PARTICIPATED_IN]-> (match:Match{{id:{self._id}}}) RETURN p\")\n",
    "            print(result)\n",
    "        except Exception as e:\n",
    "            print(str(e))\n",
    "        finally:\n",
    "            connection.close()\n",
    "\n",
    "        \n",
    "\n",
    "    \n",
    "\n",
    "partida1 = Match(1)\n",
    "pl1 = Player(\"Jogador a \", 1)\n",
    "pl2 = Player(\"Jogador b \", 2)\n",
    "pl3 = Player(\"Jogador c \", 3)\n",
    "\n",
    "partida1.add_player(pl1,10)\n",
    "partida1.add_player(pl3,6)\n",
    "\n",
    "partida2 = Match(2)\n",
    "partida2.add_player(pl2,5)\n",
    "partida2.add_player(pl1,8)\n",
    "\n",
    "pl1.get_history()\n",
    "partida1.player_list()\n",
    "\n",
    "\n",
    "\n"
   ]
  },
  {
   "cell_type": "code",
   "execution_count": null,
   "metadata": {},
   "outputs": [],
   "source": []
  }
 ],
 "metadata": {
  "kernelspec": {
   "display_name": "Python 3",
   "language": "python",
   "name": "python3"
  },
  "language_info": {
   "codemirror_mode": {
    "name": "ipython",
    "version": 3
   },
   "file_extension": ".py",
   "mimetype": "text/x-python",
   "name": "python",
   "nbconvert_exporter": "python",
   "pygments_lexer": "ipython3",
   "version": "3.7.5"
  }
 },
 "nbformat": 4,
 "nbformat_minor": 2
}
